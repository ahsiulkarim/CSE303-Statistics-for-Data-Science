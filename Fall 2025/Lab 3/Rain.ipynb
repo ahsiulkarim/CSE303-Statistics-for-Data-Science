{
  "cells": [
    {
      "cell_type": "markdown",
      "metadata": {
        "id": "bqFoUiN-ytYl"
      },
      "source": [
        "1. Load the CSV file into a DataFrame.\n",
        "2. Display the first 10 rows of the DataFrame.\n",
        "3. Display the last 5 rows of the DataFrame.\n",
        "4. Print information about the data\n",
        "5. In the \"temp\" column, replace NULL values with the mean of that column.\n",
        "6. In the \"rain\" column, replace NULL values with the median of that column.\n",
        "7. In the \"month\" and \"year\" columns, replace NULL values with the mode of each column, but only if NULL values are present."
      ]
    },
    {
      "cell_type": "code",
      "execution_count": 66,
      "metadata": {},
      "outputs": [
        {
          "name": "stdout",
          "output_type": "stream",
          "text": [
            "          tem  Month    Year       rain\n",
            "0     16.9760    1.0  1901.0   18.53560\n",
            "1     19.9026    2.0  1901.0   16.25480\n",
            "2     24.3158    3.0  1901.0   70.79810\n",
            "3     28.1834    4.0  1901.0   66.16160\n",
            "4     27.8892    5.0  1901.0  267.21500\n",
            "...       ...    ...     ...        ...\n",
            "1375      NaN    8.0  2015.0        NaN\n",
            "1376      NaN    9.0  2015.0        NaN\n",
            "1377      NaN   10.0  2015.0        NaN\n",
            "1378      NaN   11.0  2015.0    4.60815\n",
            "1379  18.7124   12.0  2015.0    5.97798\n",
            "\n",
            "[1380 rows x 4 columns]\n"
          ]
        }
      ],
      "source": [
        "# 1 loading the csv file int a dataframe.\n",
        "\n",
        "import pandas as pd\n",
        "\n",
        "df = pd.read_csv('Rain_dataset.csv')\n",
        "\n",
        "print(df)\n"
      ]
    },
    {
      "cell_type": "code",
      "execution_count": 44,
      "metadata": {},
      "outputs": [
        {
          "name": "stdout",
          "output_type": "stream",
          "text": [
            "       tem  Month    Year      rain\n",
            "0  16.9760    1.0  1901.0   18.5356\n",
            "1  19.9026    2.0  1901.0   16.2548\n",
            "2  24.3158    3.0  1901.0   70.7981\n",
            "3  28.1834    4.0  1901.0   66.1616\n",
            "4  27.8892    5.0  1901.0  267.2150\n"
          ]
        }
      ],
      "source": [
        "# 2. Dsiplaying the first 10 rows of the DataFrame.\n",
        "\n",
        "df = pd.read_csv('Rain_dataset.csv')\n",
        "\n",
        "print(df.head(5))"
      ]
    },
    {
      "cell_type": "code",
      "execution_count": 43,
      "metadata": {},
      "outputs": [
        {
          "name": "stdout",
          "output_type": "stream",
          "text": [
            "          tem  Month    Year       rain\n",
            "1370  24.6581    3.0  2015.0   21.25290\n",
            "1371  26.3966    4.0     NaN  198.79100\n",
            "1372  28.3603    5.0     NaN  167.22100\n",
            "1373  28.2169    6.0  2015.0  450.40500\n",
            "1374      NaN    7.0  2015.0  715.22300\n",
            "1375      NaN    8.0  2015.0        NaN\n",
            "1376      NaN    9.0  2015.0        NaN\n",
            "1377      NaN   10.0  2015.0        NaN\n",
            "1378      NaN   11.0  2015.0    4.60815\n",
            "1379  18.7124   12.0  2015.0    5.97798\n"
          ]
        }
      ],
      "source": [
        "# 3.  Display the last 5 rows of the DataFrame.\n",
        "\n",
        "df = pd.read_csv('Rain_dataset.csv')\n",
        "\n",
        "print(df.tail(10))"
      ]
    },
    {
      "cell_type": "code",
      "execution_count": 50,
      "metadata": {},
      "outputs": [
        {
          "name": "stdout",
          "output_type": "stream",
          "text": [
            "<class 'pandas.core.frame.DataFrame'>\n",
            "RangeIndex: 1380 entries, 0 to 1379\n",
            "Data columns (total 4 columns):\n",
            " #   Column  Non-Null Count  Dtype  \n",
            "---  ------  --------------  -----  \n",
            " 0   tem     1275 non-null   float64\n",
            " 1   Month   1370 non-null   float64\n",
            " 2   Year    1340 non-null   float64\n",
            " 3   rain    1326 non-null   float64\n",
            "dtypes: float64(4)\n",
            "memory usage: 43.3 KB\n",
            "None\n"
          ]
        }
      ],
      "source": [
        "# 4. Print information about the data.\n",
        "\n",
        "print(df.info())"
      ]
    },
    {
      "cell_type": "code",
      "execution_count": 62,
      "metadata": {},
      "outputs": [
        {
          "name": "stderr",
          "output_type": "stream",
          "text": [
            "C:\\Users\\User\\AppData\\Local\\Temp\\ipykernel_14664\\3377241105.py:7: FutureWarning: A value is trying to be set on a copy of a DataFrame or Series through chained assignment using an inplace method.\n",
            "The behavior will change in pandas 3.0. This inplace method will never work because the intermediate object on which we are setting values always behaves as a copy.\n",
            "\n",
            "For example, when doing 'df[col].method(value, inplace=True)', try using 'df.method({col: value}, inplace=True)' or df[col] = df[col].method(value) instead, to perform the operation inplace on the original object.\n",
            "\n",
            "\n",
            "  df[\"tem\"].fillna(x,inplace = True)\n"
          ]
        },
        {
          "data": {
            "text/html": [
              "<div>\n",
              "<style scoped>\n",
              "    .dataframe tbody tr th:only-of-type {\n",
              "        vertical-align: middle;\n",
              "    }\n",
              "\n",
              "    .dataframe tbody tr th {\n",
              "        vertical-align: top;\n",
              "    }\n",
              "\n",
              "    .dataframe thead th {\n",
              "        text-align: right;\n",
              "    }\n",
              "</style>\n",
              "<table border=\"1\" class=\"dataframe\">\n",
              "  <thead>\n",
              "    <tr style=\"text-align: right;\">\n",
              "      <th></th>\n",
              "      <th>tem</th>\n",
              "      <th>Month</th>\n",
              "      <th>Year</th>\n",
              "      <th>rain</th>\n",
              "    </tr>\n",
              "  </thead>\n",
              "  <tbody>\n",
              "    <tr>\n",
              "      <th>0</th>\n",
              "      <td>16.976000</td>\n",
              "      <td>1.0</td>\n",
              "      <td>1901.0</td>\n",
              "      <td>18.53560</td>\n",
              "    </tr>\n",
              "    <tr>\n",
              "      <th>1</th>\n",
              "      <td>19.902600</td>\n",
              "      <td>2.0</td>\n",
              "      <td>1901.0</td>\n",
              "      <td>16.25480</td>\n",
              "    </tr>\n",
              "    <tr>\n",
              "      <th>2</th>\n",
              "      <td>24.315800</td>\n",
              "      <td>3.0</td>\n",
              "      <td>1901.0</td>\n",
              "      <td>70.79810</td>\n",
              "    </tr>\n",
              "    <tr>\n",
              "      <th>3</th>\n",
              "      <td>28.183400</td>\n",
              "      <td>4.0</td>\n",
              "      <td>1901.0</td>\n",
              "      <td>66.16160</td>\n",
              "    </tr>\n",
              "    <tr>\n",
              "      <th>4</th>\n",
              "      <td>27.889200</td>\n",
              "      <td>5.0</td>\n",
              "      <td>1901.0</td>\n",
              "      <td>267.21500</td>\n",
              "    </tr>\n",
              "    <tr>\n",
              "      <th>...</th>\n",
              "      <td>...</td>\n",
              "      <td>...</td>\n",
              "      <td>...</td>\n",
              "      <td>...</td>\n",
              "    </tr>\n",
              "    <tr>\n",
              "      <th>1375</th>\n",
              "      <td>25.025295</td>\n",
              "      <td>8.0</td>\n",
              "      <td>2015.0</td>\n",
              "      <td>NaN</td>\n",
              "    </tr>\n",
              "    <tr>\n",
              "      <th>1376</th>\n",
              "      <td>25.025295</td>\n",
              "      <td>9.0</td>\n",
              "      <td>2015.0</td>\n",
              "      <td>NaN</td>\n",
              "    </tr>\n",
              "    <tr>\n",
              "      <th>1377</th>\n",
              "      <td>25.025295</td>\n",
              "      <td>10.0</td>\n",
              "      <td>2015.0</td>\n",
              "      <td>NaN</td>\n",
              "    </tr>\n",
              "    <tr>\n",
              "      <th>1378</th>\n",
              "      <td>25.025295</td>\n",
              "      <td>11.0</td>\n",
              "      <td>2015.0</td>\n",
              "      <td>4.60815</td>\n",
              "    </tr>\n",
              "    <tr>\n",
              "      <th>1379</th>\n",
              "      <td>18.712400</td>\n",
              "      <td>12.0</td>\n",
              "      <td>2015.0</td>\n",
              "      <td>5.97798</td>\n",
              "    </tr>\n",
              "  </tbody>\n",
              "</table>\n",
              "<p>1380 rows × 4 columns</p>\n",
              "</div>"
            ],
            "text/plain": [
              "            tem  Month    Year       rain\n",
              "0     16.976000    1.0  1901.0   18.53560\n",
              "1     19.902600    2.0  1901.0   16.25480\n",
              "2     24.315800    3.0  1901.0   70.79810\n",
              "3     28.183400    4.0  1901.0   66.16160\n",
              "4     27.889200    5.0  1901.0  267.21500\n",
              "...         ...    ...     ...        ...\n",
              "1375  25.025295    8.0  2015.0        NaN\n",
              "1376  25.025295    9.0  2015.0        NaN\n",
              "1377  25.025295   10.0  2015.0        NaN\n",
              "1378  25.025295   11.0  2015.0    4.60815\n",
              "1379  18.712400   12.0  2015.0    5.97798\n",
              "\n",
              "[1380 rows x 4 columns]"
            ]
          },
          "execution_count": 62,
          "metadata": {},
          "output_type": "execute_result"
        }
      ],
      "source": [
        "# 5. In the \"temp\" column, replace NULL values with the mean of that column.\n",
        "\n",
        "df = pd.read_csv('Rain_dataset.csv')\n",
        "\n",
        "x = df[\"tem\"].mean()\n",
        "\n",
        "df[\"tem\"].fillna(x,inplace = True)\n",
        "\n",
        "df\n",
        "\n",
        "#print(df)\n",
        "\n"
      ]
    },
    {
      "cell_type": "code",
      "execution_count": 63,
      "metadata": {},
      "outputs": [
        {
          "name": "stderr",
          "output_type": "stream",
          "text": [
            "C:\\Users\\User\\AppData\\Local\\Temp\\ipykernel_14664\\3304054496.py:6: FutureWarning: A value is trying to be set on a copy of a DataFrame or Series through chained assignment using an inplace method.\n",
            "The behavior will change in pandas 3.0. This inplace method will never work because the intermediate object on which we are setting values always behaves as a copy.\n",
            "\n",
            "For example, when doing 'df[col].method(value, inplace=True)', try using 'df.method({col: value}, inplace=True)' or df[col] = df[col].method(value) instead, to perform the operation inplace on the original object.\n",
            "\n",
            "\n",
            "  df[\"rain\"].fillna(y, inplace = True)\n"
          ]
        },
        {
          "data": {
            "text/html": [
              "<div>\n",
              "<style scoped>\n",
              "    .dataframe tbody tr th:only-of-type {\n",
              "        vertical-align: middle;\n",
              "    }\n",
              "\n",
              "    .dataframe tbody tr th {\n",
              "        vertical-align: top;\n",
              "    }\n",
              "\n",
              "    .dataframe thead th {\n",
              "        text-align: right;\n",
              "    }\n",
              "</style>\n",
              "<table border=\"1\" class=\"dataframe\">\n",
              "  <thead>\n",
              "    <tr style=\"text-align: right;\">\n",
              "      <th></th>\n",
              "      <th>tem</th>\n",
              "      <th>Month</th>\n",
              "      <th>Year</th>\n",
              "      <th>rain</th>\n",
              "    </tr>\n",
              "  </thead>\n",
              "  <tbody>\n",
              "    <tr>\n",
              "      <th>0</th>\n",
              "      <td>16.9760</td>\n",
              "      <td>1.0</td>\n",
              "      <td>1901.0</td>\n",
              "      <td>18.53560</td>\n",
              "    </tr>\n",
              "    <tr>\n",
              "      <th>1</th>\n",
              "      <td>19.9026</td>\n",
              "      <td>2.0</td>\n",
              "      <td>1901.0</td>\n",
              "      <td>16.25480</td>\n",
              "    </tr>\n",
              "    <tr>\n",
              "      <th>2</th>\n",
              "      <td>24.3158</td>\n",
              "      <td>3.0</td>\n",
              "      <td>1901.0</td>\n",
              "      <td>70.79810</td>\n",
              "    </tr>\n",
              "    <tr>\n",
              "      <th>3</th>\n",
              "      <td>28.1834</td>\n",
              "      <td>4.0</td>\n",
              "      <td>1901.0</td>\n",
              "      <td>66.16160</td>\n",
              "    </tr>\n",
              "    <tr>\n",
              "      <th>4</th>\n",
              "      <td>27.8892</td>\n",
              "      <td>5.0</td>\n",
              "      <td>1901.0</td>\n",
              "      <td>267.21500</td>\n",
              "    </tr>\n",
              "    <tr>\n",
              "      <th>...</th>\n",
              "      <td>...</td>\n",
              "      <td>...</td>\n",
              "      <td>...</td>\n",
              "      <td>...</td>\n",
              "    </tr>\n",
              "    <tr>\n",
              "      <th>1375</th>\n",
              "      <td>NaN</td>\n",
              "      <td>8.0</td>\n",
              "      <td>2015.0</td>\n",
              "      <td>140.67550</td>\n",
              "    </tr>\n",
              "    <tr>\n",
              "      <th>1376</th>\n",
              "      <td>NaN</td>\n",
              "      <td>9.0</td>\n",
              "      <td>2015.0</td>\n",
              "      <td>140.67550</td>\n",
              "    </tr>\n",
              "    <tr>\n",
              "      <th>1377</th>\n",
              "      <td>NaN</td>\n",
              "      <td>10.0</td>\n",
              "      <td>2015.0</td>\n",
              "      <td>140.67550</td>\n",
              "    </tr>\n",
              "    <tr>\n",
              "      <th>1378</th>\n",
              "      <td>NaN</td>\n",
              "      <td>11.0</td>\n",
              "      <td>2015.0</td>\n",
              "      <td>4.60815</td>\n",
              "    </tr>\n",
              "    <tr>\n",
              "      <th>1379</th>\n",
              "      <td>18.7124</td>\n",
              "      <td>12.0</td>\n",
              "      <td>2015.0</td>\n",
              "      <td>5.97798</td>\n",
              "    </tr>\n",
              "  </tbody>\n",
              "</table>\n",
              "<p>1380 rows × 4 columns</p>\n",
              "</div>"
            ],
            "text/plain": [
              "          tem  Month    Year       rain\n",
              "0     16.9760    1.0  1901.0   18.53560\n",
              "1     19.9026    2.0  1901.0   16.25480\n",
              "2     24.3158    3.0  1901.0   70.79810\n",
              "3     28.1834    4.0  1901.0   66.16160\n",
              "4     27.8892    5.0  1901.0  267.21500\n",
              "...       ...    ...     ...        ...\n",
              "1375      NaN    8.0  2015.0  140.67550\n",
              "1376      NaN    9.0  2015.0  140.67550\n",
              "1377      NaN   10.0  2015.0  140.67550\n",
              "1378      NaN   11.0  2015.0    4.60815\n",
              "1379  18.7124   12.0  2015.0    5.97798\n",
              "\n",
              "[1380 rows x 4 columns]"
            ]
          },
          "execution_count": 63,
          "metadata": {},
          "output_type": "execute_result"
        }
      ],
      "source": [
        "# 6.In the \"rain\" column, replace NULL values with the median of that column.\n",
        "df = pd.read_csv('Rain_dataset.csv')\n",
        "\n",
        "y = df[\"rain\"].median()\n",
        "\n",
        "df[\"rain\"].fillna(y, inplace = True)\n",
        "\n",
        "df"
      ]
    },
    {
      "cell_type": "code",
      "execution_count": 72,
      "metadata": {},
      "outputs": [
        {
          "name": "stdout",
          "output_type": "stream",
          "text": [
            "          tem  Month    Year       rain\n",
            "0     16.9760    1.0  1901.0   18.53560\n",
            "1     19.9026    2.0  1901.0   16.25480\n",
            "2     24.3158    3.0  1901.0   70.79810\n",
            "3     28.1834    4.0  1901.0   66.16160\n",
            "4     27.8892    5.0  1901.0  267.21500\n",
            "...       ...    ...     ...        ...\n",
            "1375      NaN    8.0  2015.0        NaN\n",
            "1376      NaN    9.0  2015.0        NaN\n",
            "1377      NaN   10.0  2015.0        NaN\n",
            "1378      NaN   11.0  2015.0    4.60815\n",
            "1379  18.7124   12.0  2015.0    5.97798\n",
            "\n",
            "[1380 rows x 4 columns]\n"
          ]
        },
        {
          "name": "stderr",
          "output_type": "stream",
          "text": [
            "C:\\Users\\User\\AppData\\Local\\Temp\\ipykernel_14664\\3465993220.py:7: FutureWarning: A value is trying to be set on a copy of a DataFrame or Series through chained assignment using an inplace method.\n",
            "The behavior will change in pandas 3.0. This inplace method will never work because the intermediate object on which we are setting values always behaves as a copy.\n",
            "\n",
            "For example, when doing 'df[col].method(value, inplace=True)', try using 'df.method({col: value}, inplace=True)' or df[col] = df[col].method(value) instead, to perform the operation inplace on the original object.\n",
            "\n",
            "\n",
            "  df[\"Month\"].fillna(a, inplace = True)\n",
            "C:\\Users\\User\\AppData\\Local\\Temp\\ipykernel_14664\\3465993220.py:8: FutureWarning: A value is trying to be set on a copy of a DataFrame or Series through chained assignment using an inplace method.\n",
            "The behavior will change in pandas 3.0. This inplace method will never work because the intermediate object on which we are setting values always behaves as a copy.\n",
            "\n",
            "For example, when doing 'df[col].method(value, inplace=True)', try using 'df.method({col: value}, inplace=True)' or df[col] = df[col].method(value) instead, to perform the operation inplace on the original object.\n",
            "\n",
            "\n",
            "  df[\"Year\"].fillna(b, inplace = True)\n"
          ]
        }
      ],
      "source": [
        "# 7.In the \"month\" and \"year\" columns, replace NULL values with the mode of each column, but only if NULL values are present.\n",
        "df = pd.read_csv('Rain_dataset.csv')\n",
        "\n",
        "a = df[\"Month\"].mode()\n",
        "b = df[\"Year\"].mode()\n",
        "\n",
        "df[\"Month\"].fillna(a, inplace = True)\n",
        "df[\"Year\"].fillna(b, inplace = True)\n",
        "\n",
        "print(df)"
      ]
    }
  ],
  "metadata": {
    "colab": {
      "provenance": []
    },
    "kernelspec": {
      "display_name": "Python 3",
      "name": "python3"
    },
    "language_info": {
      "codemirror_mode": {
        "name": "ipython",
        "version": 3
      },
      "file_extension": ".py",
      "mimetype": "text/x-python",
      "name": "python",
      "nbconvert_exporter": "python",
      "pygments_lexer": "ipython3",
      "version": "3.13.0"
    }
  },
  "nbformat": 4,
  "nbformat_minor": 0
}
