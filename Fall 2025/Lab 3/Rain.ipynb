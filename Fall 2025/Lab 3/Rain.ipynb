{
  "nbformat": 4,
  "nbformat_minor": 0,
  "metadata": {
    "colab": {
      "provenance": []
    },
    "kernelspec": {
      "name": "python3",
      "display_name": "Python 3"
    },
    "language_info": {
      "name": "python"
    }
  },
  "cells": [
    {
      "cell_type": "markdown",
      "source": [
        "1. Load the CSV file into a DataFrame.\n",
        "2. Display the first 10 rows of the DataFrame.\n",
        "3. Display the last 5 rows of the DataFrame.\n",
        "4. Print information about the data\n",
        "5. In the \"temp\" column, replace NULL values with the mean of that column.\n",
        "6. In the \"rain\" column, replace NULL values with the median of that column.\n",
        "7. In the \"month\" and \"year\" columns, replace NULL values with the mode of each column, but only if NULL values are present."
      ],
      "metadata": {
        "id": "bqFoUiN-ytYl"
      }
    },
    {
      "cell_type": "code",
      "execution_count": null,
      "metadata": {
        "id": "m3qY_8IuwaJf"
      },
      "outputs": [],
      "source": []
    }
  ]
}