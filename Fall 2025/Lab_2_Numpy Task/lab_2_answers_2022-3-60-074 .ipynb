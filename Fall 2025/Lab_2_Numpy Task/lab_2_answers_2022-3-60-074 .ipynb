{
 "cells": [
  {
   "cell_type": "code",
   "execution_count": null,
   "id": "8a829bf9",
   "metadata": {},
   "outputs": [
    {
     "name": "stdout",
     "output_type": "stream",
     "text": [
      "[0 1 2 3 4 5 6 7 8]\n"
     ]
    }
   ],
   "source": [
    "# Solution of 01:\n",
    "import numpy as np \n",
    "arr = np.arange(0,9)\n",
    "print(arr)"
   ]
  },
  {
   "cell_type": "code",
   "execution_count": null,
   "id": "6dbc15ca",
   "metadata": {},
   "outputs": [
    {
     "name": "stdout",
     "output_type": "stream",
     "text": [
      "[[ 0 99 98 91]\n",
      " [78 66 46 22]\n",
      " [25 29 48 84]\n",
      " [54 84 52 68]]\n"
     ]
    }
   ],
   "source": [
    "# Solution of 02:\n",
    "import numpy as np\n",
    "arr = np.random.randint(0,100,(4,4))\n",
    "print(arr)"
   ]
  },
  {
   "cell_type": "code",
   "execution_count": 18,
   "id": "276d1059",
   "metadata": {},
   "outputs": [
    {
     "name": "stdout",
     "output_type": "stream",
     "text": [
      "[[ 0  1  2  3  4]\n",
      " [ 5  6  7  8  9]\n",
      " [10 11 12 13 14]\n",
      " [15 16 17 18 19]]\n",
      "[6 7 8]\n"
     ]
    }
   ],
   "source": [
    "# Solution of 03:\n",
    "import numpy as np\n",
    "arr = np.arange(20).reshape(4,5)\n",
    "print(arr)\n",
    "\n",
    "subarry = arr[1, 1:4]\n",
    "print(subarry)"
   ]
  },
  {
   "cell_type": "code",
   "execution_count": 22,
   "id": "1758f986",
   "metadata": {},
   "outputs": [
    {
     "name": "stdout",
     "output_type": "stream",
     "text": [
      "[[1. 0. 0.]\n",
      " [0. 1. 0.]\n",
      " [0. 0. 1.]]\n"
     ]
    }
   ],
   "source": [
    "# Solution of 04:\n",
    "import numpy as np\n",
    "identitymatrix = np.eye(3)\n",
    "print(identitymatrix)\n"
   ]
  },
  {
   "cell_type": "code",
   "execution_count": 24,
   "id": "e139101d",
   "metadata": {},
   "outputs": [
    {
     "name": "stdout",
     "output_type": "stream",
     "text": [
      "[[0.32394978 0.403243   0.42668461]\n",
      " [0.70073145 0.76808479 0.9587087 ]]\n"
     ]
    }
   ],
   "source": [
    "# Solution of 05:\n",
    "import numpy as np\n",
    "arr = np.random.rand( 2,3)\n",
    "print(arr)"
   ]
  },
  {
   "cell_type": "code",
   "execution_count": 25,
   "id": "6655914b",
   "metadata": {},
   "outputs": [
    {
     "name": "stdout",
     "output_type": "stream",
     "text": [
      "[[0.34442618 0.78702257]\n",
      " [0.55199753 0.71208516]\n",
      " [0.13574075 0.53529576]]\n"
     ]
    }
   ],
   "source": [
    "# Solution of 06:\n",
    "import numpy as np\n",
    "arr = np.random.rand(2,3).reshape(3,2)\n",
    "\n",
    "print(arr)"
   ]
  },
  {
   "cell_type": "code",
   "execution_count": 26,
   "id": "8b93808c",
   "metadata": {},
   "outputs": [
    {
     "name": "stdout",
     "output_type": "stream",
     "text": [
      "[[0.80343355 0.63972335 0.87361846 0.5780494  0.88285562]\n",
      " [0.86347971 0.15708658 0.73792737 0.38544093 0.63716962]\n",
      " [0.7876638  0.37784989 0.70896532 0.62433492 0.64222439]\n",
      " [0.27941962 0.44411185 0.41936034 0.49757176 0.65687332]\n",
      " [0.60704078 0.23344734 0.19059734 0.93541848 0.36854505]]\n"
     ]
    }
   ],
   "source": [
    "# Solution of 07:\n",
    "import numpy as np\n",
    "arr = np.random.rand(5,5)\n",
    "print(arr)"
   ]
  },
  {
   "cell_type": "code",
   "execution_count": 45,
   "id": "d1412719",
   "metadata": {},
   "outputs": [
    {
     "name": "stdout",
     "output_type": "stream",
     "text": [
      "[[ 1  2  3  4]\n",
      " [ 5  6  7  8]\n",
      " [ 9 10 11 12]]\n"
     ]
    }
   ],
   "source": [
    "# Solution of 8:\n",
    "import numpy as np\n",
    "\n",
    "arr = np.arange(1, 13)     \n",
    "matrix = arr.reshape(3, 4)  \n",
    "\n",
    "print(matrix)\n",
    "\n",
    "\n"
   ]
  },
  {
   "cell_type": "code",
   "execution_count": 46,
   "id": "2ea97cd8",
   "metadata": {},
   "outputs": [
    {
     "name": "stdout",
     "output_type": "stream",
     "text": [
      "[[ 1  2  3]\n",
      " [ 4  5  6]\n",
      " [ 7  8  9]\n",
      " [10 11 12]]\n"
     ]
    }
   ],
   "source": [
    "# Solution of 12:\n",
    "import numpy as np\n",
    "arr1 = [[1,2,3],[4,5,6]]\n",
    "arr2 = [[7,8,9],[10,11,12]]\n",
    "concatenate = np.concatenate((arr1,arr2),axis=0)\n",
    "\n",
    "print(concatenate)"
   ]
  },
  {
   "cell_type": "code",
   "execution_count": null,
   "id": "2e4633ae",
   "metadata": {},
   "outputs": [
    {
     "name": "stdout",
     "output_type": "stream",
     "text": [
      "[[1 2 5 6]\n",
      " [3 4 7 8]]\n"
     ]
    }
   ],
   "source": [
    "# Solution of 14:\n",
    "import numpy as np\n",
    "arr1 = [[1,2],[3,4]]\n",
    "arr2 = [[5,6],[7,8]]\n",
    "concatenate = np.concatenate((arr1,arr2),axis=1)\n",
    "\n",
    "print(concatenate)"
   ]
  },
  {
   "cell_type": "code",
   "execution_count": 48,
   "id": "fe72c5cc",
   "metadata": {},
   "outputs": [
    {
     "name": "stdout",
     "output_type": "stream",
     "text": [
      "[[0. 0. 0.]\n",
      " [0. 0. 0.]\n",
      " [0. 0. 0.]]\n"
     ]
    }
   ],
   "source": [
    "# # Solution of 13:\n",
    "import numpy as np\n",
    "arr = np.zeros((3,3))\n",
    "print(arr)"
   ]
  }
 ],
 "metadata": {
  "kernelspec": {
   "display_name": "base",
   "language": "python",
   "name": "python3"
  },
  "language_info": {
   "codemirror_mode": {
    "name": "ipython",
    "version": 3
   },
   "file_extension": ".py",
   "mimetype": "text/x-python",
   "name": "python",
   "nbconvert_exporter": "python",
   "pygments_lexer": "ipython3",
   "version": "3.12.7"
  }
 },
 "nbformat": 4,
 "nbformat_minor": 5
}
